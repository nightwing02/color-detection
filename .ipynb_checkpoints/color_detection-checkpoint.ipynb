{
 "cells": [
  {
   "cell_type": "code",
   "execution_count": 1,
   "id": "34388ec9-2b89-4bb8-984b-21f7b20ca368",
   "metadata": {
    "tags": []
   },
   "outputs": [],
   "source": [
    "import cv2"
   ]
  },
  {
   "cell_type": "code",
   "execution_count": 2,
   "id": "f2ece839-2cd2-4f95-a3a6-82c2ce4f9199",
   "metadata": {
    "tags": []
   },
   "outputs": [
    {
     "data": {
      "text/plain": [
       "-1"
      ]
     },
     "execution_count": 2,
     "metadata": {},
     "output_type": "execute_result"
    }
   ],
   "source": [
    "img = cv2.imread('download.jpeg')\n",
    "cv2.imshow('Img', img)\n",
    "cv2.waitKey(0)"
   ]
  },
  {
   "cell_type": "code",
   "execution_count": 8,
   "id": "7d5a2ee0-8cd8-4782-b56c-035340a677cd",
   "metadata": {
    "tags": []
   },
   "outputs": [],
   "source": [
    "# print(img)"
   ]
  },
  {
   "cell_type": "code",
   "execution_count": 9,
   "id": "79050e7d-3c9d-4f1e-9cea-ac5e0a4d450b",
   "metadata": {
    "tags": []
   },
   "outputs": [],
   "source": [
    "# Trackbar\n"
   ]
  },
  {
   "cell_type": "code",
   "execution_count": null,
   "id": "4643af6f-e697-442c-9952-29fc90370047",
   "metadata": {
    "tags": []
   },
   "outputs": [
    {
     "data": {
      "application/javascript": [
       "\n",
       "        if (window._pyforest_update_imports_cell) { window._pyforest_update_imports_cell('import cv2'); }\n",
       "    "
      ],
      "text/plain": [
       "<IPython.core.display.Javascript object>"
      ]
     },
     "metadata": {},
     "output_type": "display_data"
    },
    {
     "data": {
      "application/javascript": [
       "\n",
       "        if (window._pyforest_update_imports_cell) { window._pyforest_update_imports_cell('import cv2'); }\n",
       "    "
      ],
      "text/plain": [
       "<IPython.core.display.Javascript object>"
      ]
     },
     "metadata": {},
     "output_type": "display_data"
    }
   ],
   "source": [
    "cap = cv2.VideoCapture(0)\n",
    "cap.set(cv2.CAP_PROP_FRAME_WIDTH,1280)\n",
    "cap.set(cv2.CAP_PROP_FRAME_HEIGHT,720)\n",
    "\n",
    "while True:\n",
    "    _, frame = cap.read()\n",
    "    hsv_frame = cv2.cvtColor(frame,cv2.COLOR_BGR2HSV)\n",
    "    heigth, width,_ = frame.shape\n",
    "    \n",
    "    cx = int(width/2)\n",
    "    cy = int(heigth/2)\n",
    "    \n",
    "    #pixel value\n",
    "    pixel_center = hsv_frame[cy,cx]\n",
    "    hue_value = pixel_center[0]\n",
    "    \n",
    "    color = \"UNDEFINED\"\n",
    "    if hue_value < 5:\n",
    "        color = \"RED\"\n",
    "    elif hue_value < 22:\n",
    "        color = \"Orange\"\n",
    "    \n",
    "    elif hue_value < 33:\n",
    "        color = 'Yellow'\n",
    "    \n",
    "    elif hue_value < 78:\n",
    "        color = 'Green'\n",
    "    \n",
    "    elif hue_value < 131:\n",
    "        color = 'BLUE'\n",
    "        \n",
    "    elif hue_value < 170:\n",
    "        color = 'Violet'\n",
    "    else:\n",
    "        color = \"Red\"\n",
    "        \n",
    "    print(pixel_center)\n",
    "    cv2.putText(frame,color,(10,50),0,1,(255,0,0),2)\n",
    "    cv2.circle(frame,(cx,cy),5,(255,0,0),3)\n",
    "    \n",
    "    cv2.imshow('Frame',frame)\n",
    "    key = cv2.waitKey(1)\n",
    "    if key == 27:\n",
    "        break\n",
    "        \n",
    "cap.release()\n",
    "cv2.destroyAllWindows()"
   ]
  },
  {
   "cell_type": "code",
   "execution_count": null,
   "id": "ca9e0f4f-e0fd-4c77-8b34-09a4f502bb0d",
   "metadata": {},
   "outputs": [],
   "source": []
  }
 ],
 "metadata": {
  "kernelspec": {
   "display_name": "Python 3 (ipykernel)",
   "language": "python",
   "name": "python3"
  },
  "language_info": {
   "codemirror_mode": {
    "name": "ipython",
    "version": 3
   },
   "file_extension": ".py",
   "mimetype": "text/x-python",
   "name": "python",
   "nbconvert_exporter": "python",
   "pygments_lexer": "ipython3",
   "version": "3.9.0"
  }
 },
 "nbformat": 4,
 "nbformat_minor": 5
}
